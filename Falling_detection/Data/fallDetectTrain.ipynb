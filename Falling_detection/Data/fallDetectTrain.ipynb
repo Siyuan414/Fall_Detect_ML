{
 "cells": [
  {
   "cell_type": "code",
   "execution_count": 2,
   "id": "cd45d5d0",
   "metadata": {},
   "outputs": [],
   "source": [
    "import pandas as pd\n",
    "import numpy as np\n",
    "from sklearn.utils import shuffle\n",
    "from sklearn.preprocessing import LabelEncoder\n",
    "import tensorflow as tf\n",
    "from tensorflow.keras.utils import to_categorical\n",
    "from sklearn.preprocessing import StandardScaler"
   ]
  },
  {
   "cell_type": "code",
   "execution_count": 3,
   "id": "1481dcd0",
   "metadata": {},
   "outputs": [
    {
     "name": "stdout",
     "output_type": "stream",
     "text": [
      "Num GPUs Available: 1\n"
     ]
    }
   ],
   "source": [
    "print(\"Num GPUs Available:\", len(tf.config.list_physical_devices('GPU')))"
   ]
  },
  {
   "cell_type": "code",
   "execution_count": 4,
   "id": "e316dd32",
   "metadata": {},
   "outputs": [
    {
     "name": "stderr",
     "output_type": "stream",
     "text": [
      "C:\\Users\\siyua\\AppData\\Local\\Temp\\ipykernel_7580\\3893055260.py:1: DtypeWarning: Columns (1,2,3,4,5,6) have mixed types. Specify dtype option on import or set low_memory=False.\n",
      "  df = pd.read_csv(\"all_data_clean.csv\",header=None,\n"
     ]
    },
    {
     "data": {
      "text/plain": [
       "(125699, 8)"
      ]
     },
     "execution_count": 4,
     "metadata": {},
     "output_type": "execute_result"
    }
   ],
   "source": [
    "df = pd.read_csv(\"all_data_clean.csv\",header=None,\n",
    "                 names=['timestamp','accel_x','accel_y','accel_z','gyro_x','gyro_y','gyro_z','label'])\n",
    "df = df.dropna()\n",
    "df = df.reset_index(drop=True)\n",
    "df = df[1:]\n",
    "df.shape"
   ]
  },
  {
   "cell_type": "code",
   "execution_count": 16,
   "id": "7eca5eb8",
   "metadata": {},
   "outputs": [
    {
     "name": "stdout",
     "output_type": "stream",
     "text": [
      "window data shape (62825, 50, 6) (62825,)\n"
     ]
    }
   ],
   "source": [
    "features = ['accel_x','accel_y','accel_z','gyro_x','gyro_y','gyro_z']\n",
    "scaler = StandardScaler()\n",
    "df[features] = scaler.fit_transform(df[features])\n",
    "window_size = 50\n",
    "step_size = 2\n",
    "\n",
    "X = []\n",
    "y = []\n",
    "\n",
    "for start in range(0,len(df) - window_size, step_size):\n",
    "    end = start + window_size\n",
    "    window = df.iloc[start:end]\n",
    "    label = window['label'].mode()[0]\n",
    "    \n",
    "    X.append(window[features].values)\n",
    "    y.append(label)\n",
    "\n",
    "X = np.array(X)\n",
    "y = np.array(y)\n",
    "print(\"window data shape\",X.shape,y.shape)"
   ]
  },
  {
   "cell_type": "code",
   "execution_count": 17,
   "id": "8e8b7b1e",
   "metadata": {},
   "outputs": [
    {
     "name": "stdout",
     "output_type": "stream",
     "text": [
      "Label classes: ['falling' 'sitting' 'standing' 'walking']\n"
     ]
    }
   ],
   "source": [
    "encoder = LabelEncoder()\n",
    "y_encoded = encoder.fit_transform(y)\n",
    "y_cat = to_categorical(y_encoded)\n",
    "\n",
    "print(\"Label classes:\", encoder.classes_)"
   ]
  },
  {
   "cell_type": "code",
   "execution_count": 18,
   "id": "592b58e0",
   "metadata": {},
   "outputs": [],
   "source": [
    "from sklearn.model_selection import train_test_split\n",
    "X_train,X_test, y_train, y_test = train_test_split(\n",
    "    X, y_cat, test_size = 0.2, random_state=42, stratify=y_cat\n",
    ")"
   ]
  },
  {
   "cell_type": "code",
   "execution_count": 19,
   "id": "ebf7adf0",
   "metadata": {},
   "outputs": [
    {
     "name": "stdout",
     "output_type": "stream",
     "text": [
      "Model: \"sequential_2\"\n",
      "_________________________________________________________________\n",
      " Layer (type)                Output Shape              Param #   \n",
      "=================================================================\n",
      " conv1d_3 (Conv1D)           (None, 48, 16)            304       \n",
      "                                                                 \n",
      " max_pooling1d_3 (MaxPooling  (None, 24, 16)           0         \n",
      " 1D)                                                             \n",
      "                                                                 \n",
      " conv1d_4 (Conv1D)           (None, 22, 32)            1568      \n",
      "                                                                 \n",
      " max_pooling1d_4 (MaxPooling  (None, 11, 32)           0         \n",
      " 1D)                                                             \n",
      "                                                                 \n",
      " flatten_1 (Flatten)         (None, 352)               0         \n",
      "                                                                 \n",
      " dense_4 (Dense)             (None, 32)                11296     \n",
      "                                                                 \n",
      " dense_5 (Dense)             (None, 4)                 132       \n",
      "                                                                 \n",
      "=================================================================\n",
      "Total params: 13,300\n",
      "Trainable params: 13,300\n",
      "Non-trainable params: 0\n",
      "_________________________________________________________________\n"
     ]
    }
   ],
   "source": [
    "#define 1D CNN Model \n",
    "from tensorflow.keras.models import Sequential\n",
    "from tensorflow.keras.layers import Conv1D,MaxPooling1D,LSTM,Flatten,Dense,Dropout,BatchNormalization\n",
    "from tensorflow.keras.optimizers import Adam\n",
    "\n",
    "model = Sequential([\n",
    "    Conv1D(16, 3, activation='relu', input_shape=(window_size, 6)),\n",
    "    MaxPooling1D(2),\n",
    "    Conv1D(32, 3, activation='relu'),\n",
    "    MaxPooling1D(2),\n",
    "    Flatten(),\n",
    "    Dense(32, activation='relu'),\n",
    "    Dense(y_cat.shape[1], activation='softmax')\n",
    "])\n",
    "optimizer = Adam(learning_rate=0.0005)\n",
    "model.compile(optimizer= optimizer,loss='categorical_crossentropy',metrics=['accuracy'])\n",
    "model.summary()"
   ]
  },
  {
   "cell_type": "code",
   "execution_count": 20,
   "id": "0800601c",
   "metadata": {},
   "outputs": [
    {
     "name": "stdout",
     "output_type": "stream",
     "text": [
      "Epoch 1/100\n",
      "786/786 [==============================] - 3s 3ms/step - loss: 1.2357 - accuracy: 0.4019 - val_loss: 1.1285 - val_accuracy: 0.4884\n",
      "Epoch 2/100\n",
      "786/786 [==============================] - 2s 2ms/step - loss: 1.0516 - accuracy: 0.5342 - val_loss: 1.0387 - val_accuracy: 0.5404\n",
      "Epoch 3/100\n",
      "786/786 [==============================] - 2s 2ms/step - loss: 0.9866 - accuracy: 0.5718 - val_loss: 0.9779 - val_accuracy: 0.5775\n",
      "Epoch 4/100\n",
      "786/786 [==============================] - 2s 2ms/step - loss: 0.9457 - accuracy: 0.5934 - val_loss: 0.9453 - val_accuracy: 0.5954\n",
      "Epoch 5/100\n",
      "786/786 [==============================] - 2s 2ms/step - loss: 0.9173 - accuracy: 0.6066 - val_loss: 0.9196 - val_accuracy: 0.6078\n",
      "Epoch 6/100\n",
      "786/786 [==============================] - 2s 2ms/step - loss: 0.8919 - accuracy: 0.6203 - val_loss: 0.9043 - val_accuracy: 0.6139\n",
      "Epoch 7/100\n",
      "786/786 [==============================] - 2s 2ms/step - loss: 0.8737 - accuracy: 0.6286 - val_loss: 0.8907 - val_accuracy: 0.6208\n",
      "Epoch 8/100\n",
      "786/786 [==============================] - 2s 2ms/step - loss: 0.8577 - accuracy: 0.6378 - val_loss: 0.8872 - val_accuracy: 0.6229\n",
      "Epoch 9/100\n",
      "786/786 [==============================] - 2s 2ms/step - loss: 0.8441 - accuracy: 0.6443 - val_loss: 0.8953 - val_accuracy: 0.6205\n",
      "Epoch 10/100\n",
      "786/786 [==============================] - 2s 2ms/step - loss: 0.8291 - accuracy: 0.6507 - val_loss: 0.8645 - val_accuracy: 0.6333\n",
      "Epoch 11/100\n",
      "786/786 [==============================] - 2s 2ms/step - loss: 0.8180 - accuracy: 0.6572 - val_loss: 0.8585 - val_accuracy: 0.6365\n",
      "Epoch 12/100\n",
      "786/786 [==============================] - 2s 2ms/step - loss: 0.8071 - accuracy: 0.6617 - val_loss: 0.8609 - val_accuracy: 0.6401\n",
      "Epoch 13/100\n",
      "786/786 [==============================] - 2s 2ms/step - loss: 0.7981 - accuracy: 0.6658 - val_loss: 0.8436 - val_accuracy: 0.6447\n",
      "Epoch 14/100\n",
      "786/786 [==============================] - 2s 2ms/step - loss: 0.7877 - accuracy: 0.6722 - val_loss: 0.8531 - val_accuracy: 0.6388\n",
      "Epoch 15/100\n",
      "786/786 [==============================] - 2s 2ms/step - loss: 0.7817 - accuracy: 0.6760 - val_loss: 0.9030 - val_accuracy: 0.6175\n",
      "Epoch 16/100\n",
      "786/786 [==============================] - 2s 2ms/step - loss: 0.7710 - accuracy: 0.6813 - val_loss: 0.8355 - val_accuracy: 0.6446\n",
      "Epoch 17/100\n",
      "786/786 [==============================] - 2s 2ms/step - loss: 0.7646 - accuracy: 0.6841 - val_loss: 0.8258 - val_accuracy: 0.6520\n",
      "Epoch 18/100\n",
      "786/786 [==============================] - 2s 2ms/step - loss: 0.7552 - accuracy: 0.6890 - val_loss: 0.8443 - val_accuracy: 0.6458\n",
      "Epoch 19/100\n",
      "786/786 [==============================] - 2s 2ms/step - loss: 0.7510 - accuracy: 0.6895 - val_loss: 0.8239 - val_accuracy: 0.6559\n",
      "Epoch 20/100\n",
      "786/786 [==============================] - 2s 2ms/step - loss: 0.7432 - accuracy: 0.6932 - val_loss: 0.8206 - val_accuracy: 0.6566\n",
      "Epoch 21/100\n",
      "786/786 [==============================] - 2s 2ms/step - loss: 0.7366 - accuracy: 0.6980 - val_loss: 0.8255 - val_accuracy: 0.6522\n",
      "Epoch 22/100\n",
      "786/786 [==============================] - 2s 2ms/step - loss: 0.7317 - accuracy: 0.6996 - val_loss: 0.8141 - val_accuracy: 0.6592\n",
      "Epoch 23/100\n",
      "786/786 [==============================] - 2s 2ms/step - loss: 0.7252 - accuracy: 0.7016 - val_loss: 0.8221 - val_accuracy: 0.6568\n",
      "Epoch 24/100\n",
      "786/786 [==============================] - 2s 2ms/step - loss: 0.7200 - accuracy: 0.7041 - val_loss: 0.8158 - val_accuracy: 0.6596\n",
      "Epoch 25/100\n",
      "786/786 [==============================] - 2s 2ms/step - loss: 0.7145 - accuracy: 0.7084 - val_loss: 0.8335 - val_accuracy: 0.6515\n",
      "Epoch 26/100\n",
      "786/786 [==============================] - 2s 2ms/step - loss: 0.7085 - accuracy: 0.7106 - val_loss: 0.8146 - val_accuracy: 0.6606\n",
      "Epoch 27/100\n",
      "786/786 [==============================] - 2s 2ms/step - loss: 0.7032 - accuracy: 0.7123 - val_loss: 0.8220 - val_accuracy: 0.6603\n",
      "Epoch 28/100\n",
      "786/786 [==============================] - 2s 2ms/step - loss: 0.6974 - accuracy: 0.7152 - val_loss: 0.8237 - val_accuracy: 0.6607\n",
      "Epoch 29/100\n",
      "786/786 [==============================] - 2s 2ms/step - loss: 0.6923 - accuracy: 0.7176 - val_loss: 0.8171 - val_accuracy: 0.6626\n",
      "Epoch 30/100\n",
      "786/786 [==============================] - 2s 2ms/step - loss: 0.6874 - accuracy: 0.7213 - val_loss: 0.8264 - val_accuracy: 0.6604\n",
      "Epoch 31/100\n",
      "786/786 [==============================] - 2s 2ms/step - loss: 0.6823 - accuracy: 0.7227 - val_loss: 0.8192 - val_accuracy: 0.6668\n",
      "Epoch 32/100\n",
      "786/786 [==============================] - 2s 2ms/step - loss: 0.6797 - accuracy: 0.7239 - val_loss: 0.8128 - val_accuracy: 0.6676\n",
      "Epoch 33/100\n",
      "786/786 [==============================] - 2s 2ms/step - loss: 0.6754 - accuracy: 0.7239 - val_loss: 0.8185 - val_accuracy: 0.6660\n",
      "Epoch 34/100\n",
      "786/786 [==============================] - 2s 2ms/step - loss: 0.6710 - accuracy: 0.7279 - val_loss: 0.8228 - val_accuracy: 0.6646\n",
      "Epoch 35/100\n",
      "786/786 [==============================] - 2s 2ms/step - loss: 0.6677 - accuracy: 0.7307 - val_loss: 0.8305 - val_accuracy: 0.6631\n",
      "Epoch 36/100\n",
      "786/786 [==============================] - 2s 2ms/step - loss: 0.6640 - accuracy: 0.7318 - val_loss: 0.8396 - val_accuracy: 0.6552\n",
      "Epoch 37/100\n",
      "786/786 [==============================] - 2s 2ms/step - loss: 0.6599 - accuracy: 0.7337 - val_loss: 0.8198 - val_accuracy: 0.6643\n",
      "Epoch 38/100\n",
      "786/786 [==============================] - 2s 2ms/step - loss: 0.6573 - accuracy: 0.7334 - val_loss: 0.8229 - val_accuracy: 0.6668\n",
      "Epoch 39/100\n",
      "786/786 [==============================] - 2s 2ms/step - loss: 0.6538 - accuracy: 0.7350 - val_loss: 0.8304 - val_accuracy: 0.6661\n",
      "Epoch 40/100\n",
      "786/786 [==============================] - 2s 2ms/step - loss: 0.6519 - accuracy: 0.7360 - val_loss: 0.8279 - val_accuracy: 0.6658\n",
      "Epoch 41/100\n",
      "786/786 [==============================] - 2s 2ms/step - loss: 0.6489 - accuracy: 0.7381 - val_loss: 0.8469 - val_accuracy: 0.6583\n",
      "Epoch 42/100\n",
      "786/786 [==============================] - 2s 2ms/step - loss: 0.6440 - accuracy: 0.7400 - val_loss: 0.8244 - val_accuracy: 0.6673\n",
      "Epoch 43/100\n",
      "786/786 [==============================] - 2s 2ms/step - loss: 0.6402 - accuracy: 0.7431 - val_loss: 0.8266 - val_accuracy: 0.6671\n",
      "Epoch 44/100\n",
      "786/786 [==============================] - 2s 2ms/step - loss: 0.6383 - accuracy: 0.7422 - val_loss: 0.8518 - val_accuracy: 0.6634\n",
      "Epoch 45/100\n",
      "786/786 [==============================] - 2s 2ms/step - loss: 0.6347 - accuracy: 0.7440 - val_loss: 0.8335 - val_accuracy: 0.6705\n",
      "Epoch 46/100\n",
      "786/786 [==============================] - 2s 2ms/step - loss: 0.6324 - accuracy: 0.7452 - val_loss: 0.8322 - val_accuracy: 0.6641\n",
      "Epoch 47/100\n",
      "786/786 [==============================] - 2s 2ms/step - loss: 0.6316 - accuracy: 0.7445 - val_loss: 0.8432 - val_accuracy: 0.6653\n",
      "Epoch 48/100\n",
      "786/786 [==============================] - 2s 2ms/step - loss: 0.6252 - accuracy: 0.7502 - val_loss: 0.8515 - val_accuracy: 0.6645\n",
      "Epoch 49/100\n",
      "786/786 [==============================] - 2s 2ms/step - loss: 0.6254 - accuracy: 0.7499 - val_loss: 0.8440 - val_accuracy: 0.6662\n",
      "Epoch 50/100\n",
      "786/786 [==============================] - 2s 2ms/step - loss: 0.6230 - accuracy: 0.7505 - val_loss: 0.8470 - val_accuracy: 0.6634\n",
      "Epoch 51/100\n",
      "786/786 [==============================] - 2s 2ms/step - loss: 0.6201 - accuracy: 0.7520 - val_loss: 0.8478 - val_accuracy: 0.6641\n",
      "Epoch 52/100\n",
      "786/786 [==============================] - 2s 2ms/step - loss: 0.6185 - accuracy: 0.7517 - val_loss: 0.8701 - val_accuracy: 0.6551\n",
      "Epoch 53/100\n",
      "786/786 [==============================] - 2s 2ms/step - loss: 0.6148 - accuracy: 0.7533 - val_loss: 0.8570 - val_accuracy: 0.6600\n",
      "Epoch 54/100\n",
      "786/786 [==============================] - 2s 2ms/step - loss: 0.6112 - accuracy: 0.7560 - val_loss: 0.8480 - val_accuracy: 0.6612\n",
      "Epoch 55/100\n",
      "786/786 [==============================] - 2s 2ms/step - loss: 0.6103 - accuracy: 0.7572 - val_loss: 0.8507 - val_accuracy: 0.6645\n",
      "Epoch 56/100\n",
      "786/786 [==============================] - 2s 2ms/step - loss: 0.6076 - accuracy: 0.7564 - val_loss: 0.8584 - val_accuracy: 0.6673\n",
      "Epoch 57/100\n",
      "786/786 [==============================] - 2s 2ms/step - loss: 0.6068 - accuracy: 0.7585 - val_loss: 0.8608 - val_accuracy: 0.6619\n",
      "Epoch 58/100\n",
      "786/786 [==============================] - 2s 2ms/step - loss: 0.6021 - accuracy: 0.7597 - val_loss: 0.8863 - val_accuracy: 0.6600\n",
      "Epoch 59/100\n",
      "786/786 [==============================] - 2s 2ms/step - loss: 0.6020 - accuracy: 0.7596 - val_loss: 0.8558 - val_accuracy: 0.6635\n",
      "Epoch 60/100\n",
      "786/786 [==============================] - 2s 2ms/step - loss: 0.5971 - accuracy: 0.7617 - val_loss: 0.8578 - val_accuracy: 0.6650\n",
      "Epoch 61/100\n",
      "786/786 [==============================] - 2s 2ms/step - loss: 0.5991 - accuracy: 0.7618 - val_loss: 0.8671 - val_accuracy: 0.6653\n",
      "Epoch 62/100\n",
      "786/786 [==============================] - 2s 2ms/step - loss: 0.5954 - accuracy: 0.7618 - val_loss: 0.8579 - val_accuracy: 0.6646\n",
      "Epoch 63/100\n",
      "786/786 [==============================] - 2s 2ms/step - loss: 0.5925 - accuracy: 0.7644 - val_loss: 0.8668 - val_accuracy: 0.6637\n",
      "Epoch 64/100\n",
      "786/786 [==============================] - 2s 2ms/step - loss: 0.5912 - accuracy: 0.7630 - val_loss: 0.8734 - val_accuracy: 0.6650\n",
      "Epoch 65/100\n",
      "786/786 [==============================] - 2s 2ms/step - loss: 0.5878 - accuracy: 0.7662 - val_loss: 0.8796 - val_accuracy: 0.6588\n",
      "Epoch 66/100\n",
      "786/786 [==============================] - 2s 2ms/step - loss: 0.5896 - accuracy: 0.7641 - val_loss: 0.8716 - val_accuracy: 0.6645\n",
      "Epoch 67/100\n",
      "786/786 [==============================] - 2s 2ms/step - loss: 0.5876 - accuracy: 0.7679 - val_loss: 0.8739 - val_accuracy: 0.6634\n",
      "Epoch 68/100\n",
      "786/786 [==============================] - 2s 2ms/step - loss: 0.5849 - accuracy: 0.7672 - val_loss: 0.8744 - val_accuracy: 0.6642\n",
      "Epoch 69/100\n",
      "786/786 [==============================] - 2s 2ms/step - loss: 0.5839 - accuracy: 0.7672 - val_loss: 0.9006 - val_accuracy: 0.6540\n",
      "Epoch 70/100\n",
      "786/786 [==============================] - 2s 2ms/step - loss: 0.5819 - accuracy: 0.7679 - val_loss: 0.8781 - val_accuracy: 0.6607\n",
      "Epoch 71/100\n",
      "786/786 [==============================] - 2s 2ms/step - loss: 0.5795 - accuracy: 0.7712 - val_loss: 0.8818 - val_accuracy: 0.6619\n",
      "Epoch 72/100\n",
      "786/786 [==============================] - 2s 2ms/step - loss: 0.5783 - accuracy: 0.7687 - val_loss: 0.8852 - val_accuracy: 0.6627\n",
      "Epoch 73/100\n",
      "786/786 [==============================] - 2s 2ms/step - loss: 0.5753 - accuracy: 0.7699 - val_loss: 0.8879 - val_accuracy: 0.6602\n",
      "Epoch 74/100\n",
      "786/786 [==============================] - 2s 2ms/step - loss: 0.5751 - accuracy: 0.7704 - val_loss: 0.8821 - val_accuracy: 0.6635\n",
      "Epoch 75/100\n",
      "786/786 [==============================] - 2s 2ms/step - loss: 0.5752 - accuracy: 0.7702 - val_loss: 0.8958 - val_accuracy: 0.6548\n",
      "Epoch 76/100\n",
      "786/786 [==============================] - 2s 2ms/step - loss: 0.5727 - accuracy: 0.7709 - val_loss: 0.8883 - val_accuracy: 0.6637\n",
      "Epoch 77/100\n",
      "786/786 [==============================] - 2s 2ms/step - loss: 0.5718 - accuracy: 0.7727 - val_loss: 0.8888 - val_accuracy: 0.6639\n",
      "Epoch 78/100\n",
      "786/786 [==============================] - 2s 2ms/step - loss: 0.5716 - accuracy: 0.7727 - val_loss: 0.8868 - val_accuracy: 0.6574\n",
      "Epoch 79/100\n",
      "786/786 [==============================] - 2s 2ms/step - loss: 0.5671 - accuracy: 0.7747 - val_loss: 0.8905 - val_accuracy: 0.6638\n",
      "Epoch 80/100\n",
      "786/786 [==============================] - 2s 2ms/step - loss: 0.5689 - accuracy: 0.7741 - val_loss: 0.9046 - val_accuracy: 0.6579\n",
      "Epoch 81/100\n",
      "786/786 [==============================] - 2s 2ms/step - loss: 0.5645 - accuracy: 0.7759 - val_loss: 0.8991 - val_accuracy: 0.6606\n",
      "Epoch 82/100\n",
      "786/786 [==============================] - 2s 2ms/step - loss: 0.5642 - accuracy: 0.7752 - val_loss: 0.9098 - val_accuracy: 0.6562\n",
      "Epoch 83/100\n",
      "786/786 [==============================] - 2s 2ms/step - loss: 0.5621 - accuracy: 0.7780 - val_loss: 0.9093 - val_accuracy: 0.6556\n",
      "Epoch 84/100\n",
      "786/786 [==============================] - 2s 2ms/step - loss: 0.5603 - accuracy: 0.7779 - val_loss: 0.9059 - val_accuracy: 0.6629\n",
      "Epoch 85/100\n",
      "786/786 [==============================] - 2s 2ms/step - loss: 0.5603 - accuracy: 0.7779 - val_loss: 0.9052 - val_accuracy: 0.6623\n",
      "Epoch 86/100\n",
      "786/786 [==============================] - 2s 2ms/step - loss: 0.5572 - accuracy: 0.7791 - val_loss: 0.9163 - val_accuracy: 0.6570\n",
      "Epoch 87/100\n",
      "786/786 [==============================] - 2s 2ms/step - loss: 0.5589 - accuracy: 0.7796 - val_loss: 0.9073 - val_accuracy: 0.6610\n",
      "Epoch 88/100\n",
      "786/786 [==============================] - 2s 2ms/step - loss: 0.5556 - accuracy: 0.7800 - val_loss: 0.9059 - val_accuracy: 0.6550\n",
      "Epoch 89/100\n",
      "786/786 [==============================] - 2s 2ms/step - loss: 0.5548 - accuracy: 0.7806 - val_loss: 0.9080 - val_accuracy: 0.6618\n",
      "Epoch 90/100\n",
      "786/786 [==============================] - 3s 3ms/step - loss: 0.5546 - accuracy: 0.7798 - val_loss: 0.9212 - val_accuracy: 0.6540\n",
      "Epoch 91/100\n",
      "786/786 [==============================] - 2s 3ms/step - loss: 0.5520 - accuracy: 0.7808 - val_loss: 0.9309 - val_accuracy: 0.6594\n",
      "Epoch 92/100\n",
      "786/786 [==============================] - 2s 3ms/step - loss: 0.5517 - accuracy: 0.7803 - val_loss: 0.9266 - val_accuracy: 0.6555\n",
      "Epoch 93/100\n",
      "786/786 [==============================] - 2s 2ms/step - loss: 0.5506 - accuracy: 0.7820 - val_loss: 0.9138 - val_accuracy: 0.6585\n",
      "Epoch 94/100\n",
      "786/786 [==============================] - 2s 2ms/step - loss: 0.5499 - accuracy: 0.7811 - val_loss: 0.9450 - val_accuracy: 0.6488\n",
      "Epoch 95/100\n",
      "786/786 [==============================] - 2s 2ms/step - loss: 0.5496 - accuracy: 0.7825 - val_loss: 0.9139 - val_accuracy: 0.6627\n",
      "Epoch 96/100\n",
      "786/786 [==============================] - 2s 2ms/step - loss: 0.5460 - accuracy: 0.7837 - val_loss: 0.9297 - val_accuracy: 0.6579\n",
      "Epoch 97/100\n",
      "786/786 [==============================] - 2s 3ms/step - loss: 0.5461 - accuracy: 0.7849 - val_loss: 0.9476 - val_accuracy: 0.6485\n",
      "Epoch 98/100\n",
      "786/786 [==============================] - 2s 3ms/step - loss: 0.5432 - accuracy: 0.7850 - val_loss: 0.9431 - val_accuracy: 0.6548\n",
      "Epoch 99/100\n",
      "786/786 [==============================] - 2s 2ms/step - loss: 0.5463 - accuracy: 0.7853 - val_loss: 0.9326 - val_accuracy: 0.6542\n",
      "Epoch 100/100\n",
      "786/786 [==============================] - 2s 3ms/step - loss: 0.5425 - accuracy: 0.7845 - val_loss: 0.9453 - val_accuracy: 0.6528\n"
     ]
    }
   ],
   "source": [
    "#Train the model\n",
    "with tf.device('/GPU:0'):\n",
    "    history = model.fit(X_train,y_train,epochs=100,batch_size=64,\n",
    "                    validation_data=(X_test,y_test))"
   ]
  },
  {
   "cell_type": "code",
   "execution_count": 21,
   "id": "359cd176",
   "metadata": {},
   "outputs": [
    {
     "name": "stdout",
     "output_type": "stream",
     "text": [
      "393/393 [==============================] - 1s 2ms/step - loss: 0.9453 - accuracy: 0.6528\n",
      "Test accuracy 0.6527656316757202\n"
     ]
    }
   ],
   "source": [
    "#Evaluate the model\n",
    "loss, acc = model.evaluate(X_test,y_test)\n",
    "print(\"Test accuracy\",acc)"
   ]
  },
  {
   "cell_type": "code",
   "execution_count": 11,
   "id": "ea5df37d",
   "metadata": {},
   "outputs": [
    {
     "name": "stdout",
     "output_type": "stream",
     "text": [
      "Model: \"sequential_1\"\n",
      "_________________________________________________________________\n",
      " Layer (type)                Output Shape              Param #   \n",
      "=================================================================\n",
      " conv1d_2 (Conv1D)           (None, 198, 64)           1216      \n",
      "                                                                 \n",
      " max_pooling1d_2 (MaxPooling  (None, 99, 64)           0         \n",
      " 1D)                                                             \n",
      "                                                                 \n",
      " dropout (Dropout)           (None, 99, 64)            0         \n",
      "                                                                 \n",
      " lstm (LSTM)                 (None, 64)                33024     \n",
      "                                                                 \n",
      " dropout_1 (Dropout)         (None, 64)                0         \n",
      "                                                                 \n",
      " dense_2 (Dense)             (None, 64)                4160      \n",
      "                                                                 \n",
      " dense_3 (Dense)             (None, 4)                 260       \n",
      "                                                                 \n",
      "=================================================================\n",
      "Total params: 38,660\n",
      "Trainable params: 38,660\n",
      "Non-trainable params: 0\n",
      "_________________________________________________________________\n"
     ]
    }
   ],
   "source": [
    "model2 = Sequential([\n",
    "    Conv1D(64, 3, activation='relu', input_shape=(window_size, 6)),\n",
    "    MaxPooling1D(2),\n",
    "    Dropout(0.3),\n",
    "    LSTM(64 ,return_sequences=False),\n",
    "    Dropout(0.3),\n",
    "    Dense(64,activation='relu'),\n",
    "    Dense(y_cat.shape[1], activation='softmax')\n",
    "])\n",
    "\n",
    "optimizer = Adam(learning_rate=0.0005)\n",
    "model2.compile(optimizer= optimizer,loss='categorical_crossentropy',metrics=['accuracy'])\n",
    "model2.summary()"
   ]
  },
  {
   "cell_type": "code",
   "execution_count": 12,
   "id": "8efd9b10",
   "metadata": {},
   "outputs": [],
   "source": [
    "#model2 trianing \n",
    "# with tf.device('/GPU:0'):\n",
    "#     history = model2.fit(X_train,y_train,epochs=100,batch_size=64,\n",
    "#                     validation_data=(X_test,y_test))"
   ]
  },
  {
   "cell_type": "code",
   "execution_count": 13,
   "id": "d16cd03a",
   "metadata": {},
   "outputs": [],
   "source": [
    "# loss, acc = model2.evaluate(X_test,y_test)\n",
    "# print(\"Test accuracy\",acc)"
   ]
  },
  {
   "cell_type": "code",
   "execution_count": 14,
   "id": "cd9da1d4",
   "metadata": {},
   "outputs": [],
   "source": [
    "def representative_dataset():\n",
    "    for _ in range(100):\n",
    "        data = np.random.rand(62750, 200, 6).astype(np.float32)  # shape must match your model input\n",
    "        yield [data]"
   ]
  },
  {
   "cell_type": "code",
   "execution_count": 22,
   "id": "9f4e346e",
   "metadata": {},
   "outputs": [
    {
     "name": "stderr",
     "output_type": "stream",
     "text": [
      "WARNING:absl:Found untraced functions such as _jit_compiled_convolution_op, _jit_compiled_convolution_op while saving (showing 2 of 2). These functions will not be directly callable after loading.\n"
     ]
    },
    {
     "name": "stdout",
     "output_type": "stream",
     "text": [
      "INFO:tensorflow:Assets written to: C:\\Users\\siyua\\AppData\\Local\\Temp\\tmpre9bjdvy\\assets\n"
     ]
    },
    {
     "name": "stderr",
     "output_type": "stream",
     "text": [
      "INFO:tensorflow:Assets written to: C:\\Users\\siyua\\AppData\\Local\\Temp\\tmpre9bjdvy\\assets\n"
     ]
    }
   ],
   "source": [
    "#convert to TFLITE\n",
    "\n",
    "\n",
    "converter = tf.lite.TFLiteConverter.from_keras_model(model)\n",
    "converter.optimizations = [tf.lite.Optimize.DEFAULT]\n",
    "\n",
    "converter.target_spec.supported_ops = [tf.float32]\n",
    "\n",
    "\n",
    "\n",
    "tflite_model = converter.convert()\n",
    "\n",
    "\n",
    "with open(\"fall_detector_cnn_Fl32.tflite\",\"wb\") as f:\n",
    "    f.write(tflite_model)"
   ]
  },
  {
   "cell_type": "code",
   "execution_count": null,
   "id": "d3c64bac",
   "metadata": {},
   "outputs": [],
   "source": []
  }
 ],
 "metadata": {
  "kernelspec": {
   "display_name": "py310",
   "language": "python",
   "name": "python3"
  },
  "language_info": {
   "codemirror_mode": {
    "name": "ipython",
    "version": 3
   },
   "file_extension": ".py",
   "mimetype": "text/x-python",
   "name": "python",
   "nbconvert_exporter": "python",
   "pygments_lexer": "ipython3",
   "version": "3.10.14"
  }
 },
 "nbformat": 4,
 "nbformat_minor": 5
}
